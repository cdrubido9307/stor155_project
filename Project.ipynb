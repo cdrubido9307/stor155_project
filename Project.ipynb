{
 "cells": [
  {
   "cell_type": "markdown",
   "metadata": {},
   "source": [
    "# Interesting Dataset of UNC Undergraduate Students"
   ]
  },
  {
   "cell_type": "markdown",
   "metadata": {},
   "source": [
    "<img src = \"http://data.web.unc.edu/files/2017/01/DataCarolina_Logo-4.jpg\">"
   ]
  },
  {
   "cell_type": "markdown",
   "metadata": {},
   "source": [
    "## Experiment"
   ]
  },
  {
   "cell_type": "markdown",
   "metadata": {},
   "source": [
    "<p class=\"font-weight-light\">Collect a sample 100 UNC undergraduate students to record the following data:</p>"
   ]
  },
  {
   "cell_type": "markdown",
   "metadata": {},
   "source": [
    "<ul class=\"list-group\">\n",
    "  <li class=\"list-group-item\">Gender</li>\n",
    "  <li class=\"list-group-item\">Residency</li>\n",
    "  <li class=\"list-group-item\">Full/Part-Time Status</li>\n",
    "</ul>"
   ]
  },
  {
   "cell_type": "markdown",
   "metadata": {},
   "source": [
    "Name and PID of the subjects will not be recorded to keep their identity private through the study. From the 100 undegraduate students in the sample 50 will be selected at random using the Simple Random Sample technique in order to reduce bias."
   ]
  },
  {
   "cell_type": "markdown",
   "metadata": {},
   "source": [
    "## Objectives"
   ]
  },
  {
   "cell_type": "markdown",
   "metadata": {},
   "source": [
    "Analyze the data using graphs, and come up with proportions, for example proportion of female/male undergraduate students at UNC. It follows to compare the experiments results with real statistics provided by The Office of Institutional Research & Assessment. Next, we will compare the result of our experiment with the statistics and assess the experiment conclusions based on how close are our results from the provided facts."
   ]
  },
  {
   "cell_type": "markdown",
   "metadata": {},
   "source": [
    "### Importing recorded sample of UNC Undergraduate Students"
   ]
  },
  {
   "cell_type": "code",
   "execution_count": 25,
   "metadata": {},
   "outputs": [
    {
     "data": {
      "text/html": [
       "<div>\n",
       "<style scoped>\n",
       "    .dataframe tbody tr th:only-of-type {\n",
       "        vertical-align: middle;\n",
       "    }\n",
       "\n",
       "    .dataframe tbody tr th {\n",
       "        vertical-align: top;\n",
       "    }\n",
       "\n",
       "    .dataframe thead th {\n",
       "        text-align: right;\n",
       "    }\n",
       "</style>\n",
       "<table border=\"1\" class=\"dataframe\">\n",
       "  <thead>\n",
       "    <tr style=\"text-align: right;\">\n",
       "      <th></th>\n",
       "      <th>Gender</th>\n",
       "      <th>Residency</th>\n",
       "      <th>Full/Part-Time Status</th>\n",
       "    </tr>\n",
       "  </thead>\n",
       "  <tbody>\n",
       "    <tr>\n",
       "      <td>0</td>\n",
       "      <td>Male</td>\n",
       "      <td>In-State</td>\n",
       "      <td>Full-Time</td>\n",
       "    </tr>\n",
       "    <tr>\n",
       "      <td>1</td>\n",
       "      <td>Male</td>\n",
       "      <td>In-State</td>\n",
       "      <td>Full-Time</td>\n",
       "    </tr>\n",
       "    <tr>\n",
       "      <td>2</td>\n",
       "      <td>Female</td>\n",
       "      <td>In-State</td>\n",
       "      <td>Full-Time</td>\n",
       "    </tr>\n",
       "    <tr>\n",
       "      <td>3</td>\n",
       "      <td>Male</td>\n",
       "      <td>In-State</td>\n",
       "      <td>Part-Time</td>\n",
       "    </tr>\n",
       "    <tr>\n",
       "      <td>4</td>\n",
       "      <td>Male</td>\n",
       "      <td>In-State</td>\n",
       "      <td>Full-Time</td>\n",
       "    </tr>\n",
       "    <tr>\n",
       "      <td>...</td>\n",
       "      <td>...</td>\n",
       "      <td>...</td>\n",
       "      <td>...</td>\n",
       "    </tr>\n",
       "    <tr>\n",
       "      <td>95</td>\n",
       "      <td>Male</td>\n",
       "      <td>In-State</td>\n",
       "      <td>Full-Time</td>\n",
       "    </tr>\n",
       "    <tr>\n",
       "      <td>96</td>\n",
       "      <td>Male</td>\n",
       "      <td>In-State</td>\n",
       "      <td>Full-Time</td>\n",
       "    </tr>\n",
       "    <tr>\n",
       "      <td>97</td>\n",
       "      <td>Female</td>\n",
       "      <td>In-State</td>\n",
       "      <td>Full-Time</td>\n",
       "    </tr>\n",
       "    <tr>\n",
       "      <td>98</td>\n",
       "      <td>Female</td>\n",
       "      <td>Out-State</td>\n",
       "      <td>Full-Time</td>\n",
       "    </tr>\n",
       "    <tr>\n",
       "      <td>99</td>\n",
       "      <td>Female</td>\n",
       "      <td>In-State</td>\n",
       "      <td>Full-Time</td>\n",
       "    </tr>\n",
       "  </tbody>\n",
       "</table>\n",
       "<p>100 rows × 3 columns</p>\n",
       "</div>"
      ],
      "text/plain": [
       "    Gender  Residency Full/Part-Time Status\n",
       "0     Male   In-State             Full-Time\n",
       "1     Male   In-State             Full-Time\n",
       "2   Female   In-State             Full-Time\n",
       "3     Male   In-State             Part-Time\n",
       "4     Male   In-State             Full-Time\n",
       "..     ...        ...                   ...\n",
       "95    Male   In-State             Full-Time\n",
       "96    Male   In-State             Full-Time\n",
       "97  Female   In-State             Full-Time\n",
       "98  Female  Out-State             Full-Time\n",
       "99  Female   In-State             Full-Time\n",
       "\n",
       "[100 rows x 3 columns]"
      ]
     },
     "execution_count": 25,
     "metadata": {},
     "output_type": "execute_result"
    }
   ],
   "source": [
    "import pandas as pd\n",
    "pd.read_csv(\"UNC Undergraduate Sample.csv\")"
   ]
  },
  {
   "cell_type": "markdown",
   "metadata": {},
   "source": [
    "### Determining simple random sample"
   ]
  },
  {
   "cell_type": "code",
   "execution_count": 26,
   "metadata": {},
   "outputs": [],
   "source": [
    "import random\n",
    "\n",
    "random.seed(0)\n",
    "\n",
    "simple_random_sample = random.sample(range(100), 50)"
   ]
  },
  {
   "cell_type": "markdown",
   "metadata": {},
   "source": [
    "### Selected Subjects"
   ]
  },
  {
   "cell_type": "code",
   "execution_count": 27,
   "metadata": {},
   "outputs": [
    {
     "data": {
      "text/html": [
       "<div>\n",
       "<style scoped>\n",
       "    .dataframe tbody tr th:only-of-type {\n",
       "        vertical-align: middle;\n",
       "    }\n",
       "\n",
       "    .dataframe tbody tr th {\n",
       "        vertical-align: top;\n",
       "    }\n",
       "\n",
       "    .dataframe thead th {\n",
       "        text-align: right;\n",
       "    }\n",
       "</style>\n",
       "<table border=\"1\" class=\"dataframe\">\n",
       "  <thead>\n",
       "    <tr style=\"text-align: right;\">\n",
       "      <th></th>\n",
       "      <th>Subject ID</th>\n",
       "      <th>Gender</th>\n",
       "      <th>Residency</th>\n",
       "      <th>Full/Part-Time Status</th>\n",
       "    </tr>\n",
       "  </thead>\n",
       "  <tbody>\n",
       "    <tr>\n",
       "      <td>0</td>\n",
       "      <td>0049</td>\n",
       "      <td>Male</td>\n",
       "      <td>In-State</td>\n",
       "      <td>Part-Time</td>\n",
       "    </tr>\n",
       "    <tr>\n",
       "      <td>1</td>\n",
       "      <td>0097</td>\n",
       "      <td>Female</td>\n",
       "      <td>In-State</td>\n",
       "      <td>Full-Time</td>\n",
       "    </tr>\n",
       "    <tr>\n",
       "      <td>2</td>\n",
       "      <td>0053</td>\n",
       "      <td>Female</td>\n",
       "      <td>In-State</td>\n",
       "      <td>Full-Time</td>\n",
       "    </tr>\n",
       "    <tr>\n",
       "      <td>3</td>\n",
       "      <td>0005</td>\n",
       "      <td>Male</td>\n",
       "      <td>In-State</td>\n",
       "      <td>Full-Time</td>\n",
       "    </tr>\n",
       "    <tr>\n",
       "      <td>4</td>\n",
       "      <td>0033</td>\n",
       "      <td>Female</td>\n",
       "      <td>In-State</td>\n",
       "      <td>Full-Time</td>\n",
       "    </tr>\n",
       "    <tr>\n",
       "      <td>5</td>\n",
       "      <td>0065</td>\n",
       "      <td>Male</td>\n",
       "      <td>In-State</td>\n",
       "      <td>Full-Time</td>\n",
       "    </tr>\n",
       "    <tr>\n",
       "      <td>6</td>\n",
       "      <td>0062</td>\n",
       "      <td>Female</td>\n",
       "      <td>In-State</td>\n",
       "      <td>Full-Time</td>\n",
       "    </tr>\n",
       "    <tr>\n",
       "      <td>7</td>\n",
       "      <td>0051</td>\n",
       "      <td>Female</td>\n",
       "      <td>In-State</td>\n",
       "      <td>Full-Time</td>\n",
       "    </tr>\n",
       "    <tr>\n",
       "      <td>8</td>\n",
       "      <td>0038</td>\n",
       "      <td>Female</td>\n",
       "      <td>Out-State</td>\n",
       "      <td>Full-Time</td>\n",
       "    </tr>\n",
       "    <tr>\n",
       "      <td>9</td>\n",
       "      <td>0061</td>\n",
       "      <td>Female</td>\n",
       "      <td>In-State</td>\n",
       "      <td>Full-Time</td>\n",
       "    </tr>\n",
       "    <tr>\n",
       "      <td>10</td>\n",
       "      <td>0045</td>\n",
       "      <td>Female</td>\n",
       "      <td>In-State</td>\n",
       "      <td>Full-Time</td>\n",
       "    </tr>\n",
       "    <tr>\n",
       "      <td>11</td>\n",
       "      <td>0074</td>\n",
       "      <td>Male</td>\n",
       "      <td>In-State</td>\n",
       "      <td>Full-Time</td>\n",
       "    </tr>\n",
       "    <tr>\n",
       "      <td>12</td>\n",
       "      <td>0027</td>\n",
       "      <td>Male</td>\n",
       "      <td>Out-State</td>\n",
       "      <td>Full-Time</td>\n",
       "    </tr>\n",
       "    <tr>\n",
       "      <td>13</td>\n",
       "      <td>0064</td>\n",
       "      <td>Female</td>\n",
       "      <td>In-State</td>\n",
       "      <td>Part-Time</td>\n",
       "    </tr>\n",
       "    <tr>\n",
       "      <td>14</td>\n",
       "      <td>0017</td>\n",
       "      <td>Female</td>\n",
       "      <td>Out-State</td>\n",
       "      <td>Full-Time</td>\n",
       "    </tr>\n",
       "    <tr>\n",
       "      <td>15</td>\n",
       "      <td>0036</td>\n",
       "      <td>Female</td>\n",
       "      <td>In-State</td>\n",
       "      <td>Full-Time</td>\n",
       "    </tr>\n",
       "    <tr>\n",
       "      <td>16</td>\n",
       "      <td>0085</td>\n",
       "      <td>Male</td>\n",
       "      <td>In-State</td>\n",
       "      <td>Full-Time</td>\n",
       "    </tr>\n",
       "    <tr>\n",
       "      <td>17</td>\n",
       "      <td>0012</td>\n",
       "      <td>Female</td>\n",
       "      <td>In-State</td>\n",
       "      <td>Full-Time</td>\n",
       "    </tr>\n",
       "    <tr>\n",
       "      <td>18</td>\n",
       "      <td>0079</td>\n",
       "      <td>Male</td>\n",
       "      <td>In-State</td>\n",
       "      <td>Full-Time</td>\n",
       "    </tr>\n",
       "    <tr>\n",
       "      <td>19</td>\n",
       "      <td>0032</td>\n",
       "      <td>Male</td>\n",
       "      <td>In-State</td>\n",
       "      <td>Full-Time</td>\n",
       "    </tr>\n",
       "    <tr>\n",
       "      <td>20</td>\n",
       "      <td>0068</td>\n",
       "      <td>Female</td>\n",
       "      <td>Out-State</td>\n",
       "      <td>Full-Time</td>\n",
       "    </tr>\n",
       "    <tr>\n",
       "      <td>21</td>\n",
       "      <td>0077</td>\n",
       "      <td>Male</td>\n",
       "      <td>In-State</td>\n",
       "      <td>Full-Time</td>\n",
       "    </tr>\n",
       "    <tr>\n",
       "      <td>22</td>\n",
       "      <td>0018</td>\n",
       "      <td>Female</td>\n",
       "      <td>In-State</td>\n",
       "      <td>Full-Time</td>\n",
       "    </tr>\n",
       "    <tr>\n",
       "      <td>23</td>\n",
       "      <td>0039</td>\n",
       "      <td>Female</td>\n",
       "      <td>In-State</td>\n",
       "      <td>Full-Time</td>\n",
       "    </tr>\n",
       "    <tr>\n",
       "      <td>24</td>\n",
       "      <td>0082</td>\n",
       "      <td>Female</td>\n",
       "      <td>In-State</td>\n",
       "      <td>Full-Time</td>\n",
       "    </tr>\n",
       "    <tr>\n",
       "      <td>25</td>\n",
       "      <td>0009</td>\n",
       "      <td>Female</td>\n",
       "      <td>In-State</td>\n",
       "      <td>Part-Time</td>\n",
       "    </tr>\n",
       "    <tr>\n",
       "      <td>26</td>\n",
       "      <td>0042</td>\n",
       "      <td>Female</td>\n",
       "      <td>In-State</td>\n",
       "      <td>Full-Time</td>\n",
       "    </tr>\n",
       "    <tr>\n",
       "      <td>27</td>\n",
       "      <td>0060</td>\n",
       "      <td>Male</td>\n",
       "      <td>In-State</td>\n",
       "      <td>Full-Time</td>\n",
       "    </tr>\n",
       "    <tr>\n",
       "      <td>28</td>\n",
       "      <td>0071</td>\n",
       "      <td>Female</td>\n",
       "      <td>In-State</td>\n",
       "      <td>Full-Time</td>\n",
       "    </tr>\n",
       "    <tr>\n",
       "      <td>29</td>\n",
       "      <td>0075</td>\n",
       "      <td>Female</td>\n",
       "      <td>In-State</td>\n",
       "      <td>Full-Time</td>\n",
       "    </tr>\n",
       "    <tr>\n",
       "      <td>30</td>\n",
       "      <td>0089</td>\n",
       "      <td>Female</td>\n",
       "      <td>Out-State</td>\n",
       "      <td>Full-Time</td>\n",
       "    </tr>\n",
       "    <tr>\n",
       "      <td>31</td>\n",
       "      <td>0055</td>\n",
       "      <td>Male</td>\n",
       "      <td>In-State</td>\n",
       "      <td>Full-Time</td>\n",
       "    </tr>\n",
       "    <tr>\n",
       "      <td>32</td>\n",
       "      <td>0040</td>\n",
       "      <td>Female</td>\n",
       "      <td>In-State</td>\n",
       "      <td>Full-Time</td>\n",
       "    </tr>\n",
       "    <tr>\n",
       "      <td>33</td>\n",
       "      <td>0026</td>\n",
       "      <td>Male</td>\n",
       "      <td>In-State</td>\n",
       "      <td>Full-Time</td>\n",
       "    </tr>\n",
       "    <tr>\n",
       "      <td>34</td>\n",
       "      <td>0090</td>\n",
       "      <td>Male</td>\n",
       "      <td>In-State</td>\n",
       "      <td>Full-Time</td>\n",
       "    </tr>\n",
       "    <tr>\n",
       "      <td>35</td>\n",
       "      <td>0056</td>\n",
       "      <td>Female</td>\n",
       "      <td>In-State</td>\n",
       "      <td>Full-Time</td>\n",
       "    </tr>\n",
       "    <tr>\n",
       "      <td>36</td>\n",
       "      <td>0095</td>\n",
       "      <td>Male</td>\n",
       "      <td>In-State</td>\n",
       "      <td>Full-Time</td>\n",
       "    </tr>\n",
       "    <tr>\n",
       "      <td>37</td>\n",
       "      <td>0003</td>\n",
       "      <td>Male</td>\n",
       "      <td>In-State</td>\n",
       "      <td>Part-Time</td>\n",
       "    </tr>\n",
       "    <tr>\n",
       "      <td>38</td>\n",
       "      <td>0092</td>\n",
       "      <td>Female</td>\n",
       "      <td>In-State</td>\n",
       "      <td>Full-Time</td>\n",
       "    </tr>\n",
       "    <tr>\n",
       "      <td>39</td>\n",
       "      <td>0058</td>\n",
       "      <td>Male</td>\n",
       "      <td>In-State</td>\n",
       "      <td>Full-Time</td>\n",
       "    </tr>\n",
       "    <tr>\n",
       "      <td>40</td>\n",
       "      <td>0035</td>\n",
       "      <td>Male</td>\n",
       "      <td>In-State</td>\n",
       "      <td>Full-Time</td>\n",
       "    </tr>\n",
       "    <tr>\n",
       "      <td>41</td>\n",
       "      <td>0072</td>\n",
       "      <td>Female</td>\n",
       "      <td>Out-State</td>\n",
       "      <td>Full-Time</td>\n",
       "    </tr>\n",
       "    <tr>\n",
       "      <td>42</td>\n",
       "      <td>0000</td>\n",
       "      <td>Male</td>\n",
       "      <td>In-State</td>\n",
       "      <td>Full-Time</td>\n",
       "    </tr>\n",
       "    <tr>\n",
       "      <td>43</td>\n",
       "      <td>0096</td>\n",
       "      <td>Male</td>\n",
       "      <td>In-State</td>\n",
       "      <td>Full-Time</td>\n",
       "    </tr>\n",
       "    <tr>\n",
       "      <td>44</td>\n",
       "      <td>0046</td>\n",
       "      <td>Male</td>\n",
       "      <td>In-State</td>\n",
       "      <td>Full-Time</td>\n",
       "    </tr>\n",
       "    <tr>\n",
       "      <td>45</td>\n",
       "      <td>0098</td>\n",
       "      <td>Female</td>\n",
       "      <td>Out-State</td>\n",
       "      <td>Full-Time</td>\n",
       "    </tr>\n",
       "    <tr>\n",
       "      <td>46</td>\n",
       "      <td>0025</td>\n",
       "      <td>Female</td>\n",
       "      <td>In-State</td>\n",
       "      <td>Full-Time</td>\n",
       "    </tr>\n",
       "    <tr>\n",
       "      <td>47</td>\n",
       "      <td>0069</td>\n",
       "      <td>Female</td>\n",
       "      <td>In-State</td>\n",
       "      <td>Full-Time</td>\n",
       "    </tr>\n",
       "    <tr>\n",
       "      <td>48</td>\n",
       "      <td>0050</td>\n",
       "      <td>Male</td>\n",
       "      <td>In-State</td>\n",
       "      <td>Full-Time</td>\n",
       "    </tr>\n",
       "    <tr>\n",
       "      <td>49</td>\n",
       "      <td>0073</td>\n",
       "      <td>Male</td>\n",
       "      <td>In-State</td>\n",
       "      <td>Full-Time</td>\n",
       "    </tr>\n",
       "  </tbody>\n",
       "</table>\n",
       "</div>"
      ],
      "text/plain": [
       "   Subject ID  Gender  Residency Full/Part-Time Status\n",
       "0        0049    Male   In-State             Part-Time\n",
       "1        0097  Female   In-State             Full-Time\n",
       "2        0053  Female   In-State             Full-Time\n",
       "3        0005    Male   In-State             Full-Time\n",
       "4        0033  Female   In-State             Full-Time\n",
       "5        0065    Male   In-State             Full-Time\n",
       "6        0062  Female   In-State             Full-Time\n",
       "7        0051  Female   In-State             Full-Time\n",
       "8        0038  Female  Out-State             Full-Time\n",
       "9        0061  Female   In-State             Full-Time\n",
       "10       0045  Female   In-State             Full-Time\n",
       "11       0074    Male   In-State             Full-Time\n",
       "12       0027    Male  Out-State             Full-Time\n",
       "13       0064  Female   In-State             Part-Time\n",
       "14       0017  Female  Out-State             Full-Time\n",
       "15       0036  Female   In-State             Full-Time\n",
       "16       0085    Male   In-State             Full-Time\n",
       "17       0012  Female   In-State             Full-Time\n",
       "18       0079    Male   In-State             Full-Time\n",
       "19       0032    Male   In-State             Full-Time\n",
       "20       0068  Female  Out-State             Full-Time\n",
       "21       0077    Male   In-State             Full-Time\n",
       "22       0018  Female   In-State             Full-Time\n",
       "23       0039  Female   In-State             Full-Time\n",
       "24       0082  Female   In-State             Full-Time\n",
       "25       0009  Female   In-State             Part-Time\n",
       "26       0042  Female   In-State             Full-Time\n",
       "27       0060    Male   In-State             Full-Time\n",
       "28       0071  Female   In-State             Full-Time\n",
       "29       0075  Female   In-State             Full-Time\n",
       "30       0089  Female  Out-State             Full-Time\n",
       "31       0055    Male   In-State             Full-Time\n",
       "32       0040  Female   In-State             Full-Time\n",
       "33       0026    Male   In-State             Full-Time\n",
       "34       0090    Male   In-State             Full-Time\n",
       "35       0056  Female   In-State             Full-Time\n",
       "36       0095    Male   In-State             Full-Time\n",
       "37       0003    Male   In-State             Part-Time\n",
       "38       0092  Female   In-State             Full-Time\n",
       "39       0058    Male   In-State             Full-Time\n",
       "40       0035    Male   In-State             Full-Time\n",
       "41       0072  Female  Out-State             Full-Time\n",
       "42       0000    Male   In-State             Full-Time\n",
       "43       0096    Male   In-State             Full-Time\n",
       "44       0046    Male   In-State             Full-Time\n",
       "45       0098  Female  Out-State             Full-Time\n",
       "46       0025  Female   In-State             Full-Time\n",
       "47       0069  Female   In-State             Full-Time\n",
       "48       0050    Male   In-State             Full-Time\n",
       "49       0073    Male   In-State             Full-Time"
      ]
     },
     "execution_count": 27,
     "metadata": {},
     "output_type": "execute_result"
    }
   ],
   "source": [
    "import data_gen as dt\n",
    "data_dict = dt.srs\n",
    "data_frame = pd.DataFrame(data_dict)\n",
    "data_frame"
   ]
  },
  {
   "cell_type": "markdown",
   "metadata": {},
   "source": [
    "### Gender Distribution"
   ]
  },
  {
   "cell_type": "code",
   "execution_count": 28,
   "metadata": {},
   "outputs": [],
   "source": [
    "gender = [\"Female\", \"Male\"]\n",
    "count_female = 0\n",
    "count_male = 0\n",
    "gen_counts = []\n",
    "for x in dt.sub_gen:\n",
    "    if x == \"Female\":\n",
    "        count_female = count_female + 1\n",
    "    elif x == \"Male\":\n",
    "        count_male = count_male + 1\n",
    "gen_counts.append(count_female)\n",
    "gen_counts.append(count_male)"
   ]
  },
  {
   "cell_type": "code",
   "execution_count": 29,
   "metadata": {},
   "outputs": [
    {
     "name": "stdout",
     "output_type": "stream",
     "text": [
      "Out of the 50 undergrads selected at random: \n",
      "Female count: 28\n",
      "Female count: 22\n"
     ]
    }
   ],
   "source": [
    "print(\"Out of the 50 undergrads selected at random: \")\n",
    "print(\"Female count: \" + str(count_female))\n",
    "print(\"Female count: \" + str(count_male))"
   ]
  },
  {
   "cell_type": "code",
   "execution_count": 30,
   "metadata": {},
   "outputs": [
    {
     "data": {
      "image/png": "[encoded data removed]",
      "text/plain": [
       "<Figure size 640x480 with 1 Axes>"
      ]
     },
     "metadata": {},
     "output_type": "display_data"
    }
   ],
   "source": [
    "import matplotlib.pyplot as plt; plt.rcdefaults()\n",
    "import numpy as np\n",
    "import matplotlib.pyplot as plt\n",
    "\n",
    "y_pos = np.arange(len(gender))\n",
    "\n",
    "plt.bar(y_pos, gen_counts, align='center', alpha=0.5)\n",
    "plt.xticks(y_pos, gender)\n",
    "plt.xlabel('Undergrad Gender')\n",
    "plt.ylabel('Amount')\n",
    "\n",
    "plt.show()"
   ]
  },
  {
   "cell_type": "code",
   "execution_count": 31,
   "metadata": {},
   "outputs": [],
   "source": [
    "female_ratio = count_female / 50\n",
    "male_ratio = count_male / 50\n",
    "\n",
    "gen_ratios = []\n",
    "gen_ratios.append(female_ratio)\n",
    "gen_ratios.append(male_ratio)"
   ]
  },
  {
   "cell_type": "code",
   "execution_count": 32,
   "metadata": {},
   "outputs": [
    {
     "data": {
      "image/png": "[encoded data removed]",
      "text/plain": [
       "<Figure size 640x480 with 1 Axes>"
      ]
     },
     "metadata": {},
     "output_type": "display_data"
    }
   ],
   "source": [
    "import matplotlib.pyplot as plt\n",
    "\n",
    "labels = 'Female', 'Male'\n",
    "explode = (0, 0.1)\n",
    "\n",
    "fig1, ax1 = plt.subplots()\n",
    "ax1.pie(gen_ratios, explode=explode, labels=labels, autopct='%1.1f%%',\n",
    "        shadow=True, startangle=90)\n",
    "ax1.axis('equal')\n",
    "\n",
    "plt.show()"
   ]
  },
  {
   "cell_type": "markdown",
   "metadata": {},
   "source": [
    "### Residency distribution"
   ]
  },
  {
   "cell_type": "code",
   "execution_count": 33,
   "metadata": {},
   "outputs": [],
   "source": [
    "res_cat = [\"In-State\", \"Out-State\"]\n",
    "count_in = 0\n",
    "count_out = 0\n",
    "res_counts = []\n",
    "for x in dt.sub_res:\n",
    "    if x == \"In-State\":\n",
    "        count_in = count_in + 1\n",
    "    elif x == \"Out-State\":\n",
    "        count_out = count_out + 1\n",
    "res_counts.append(count_in)\n",
    "res_counts.append(count_out)"
   ]
  },
  {
   "cell_type": "code",
   "execution_count": 34,
   "metadata": {},
   "outputs": [
    {
     "name": "stdout",
     "output_type": "stream",
     "text": [
      "Out of the 50 undergrads selected at random: \n",
      "In-State count: 43\n",
      "Out-State count: 7\n"
     ]
    }
   ],
   "source": [
    "print(\"Out of the 50 undergrads selected at random: \")\n",
    "print(\"In-State count: \" + str(count_in))\n",
    "print(\"Out-State count: \" + str(count_out))"
   ]
  },
  {
   "cell_type": "code",
   "execution_count": 42,
   "metadata": {},
   "outputs": [
    {
     "data": {
      "image/png": "[encoded data removed]",
      "text/plain": [
       "<Figure size 640x480 with 1 Axes>"
      ]
     },
     "metadata": {},
     "output_type": "display_data"
    }
   ],
   "source": [
    "y_pos1 = np.arange(len(res_cat))\n",
    "\n",
    "plt.bar(y_pos1, res_counts, align='center', alpha=0.5)\n",
    "plt.xticks(y_pos1, res_cat)\n",
    "plt.xlabel('Undergrad Residency Status')\n",
    "plt.ylabel('Amount')\n",
    "\n",
    "plt.show()"
   ]
  },
  {
   "cell_type": "code",
   "execution_count": 43,
   "metadata": {},
   "outputs": [
    {
     "data": {
      "image/png": "[encoded data removed]",
      "text/plain": [
       "<Figure size 640x480 with 1 Axes>"
      ]
     },
     "metadata": {},
     "output_type": "display_data"
    }
   ],
   "source": [
    "in_ratio = count_in / 50\n",
    "out_ratio = count_out / 50\n",
    "\n",
    "res_ratios = []\n",
    "res_ratios.append(in_ratio)\n",
    "res_ratios.append(out_ratio)\n",
    "\n",
    "labels = 'In-State', 'Out-State'\n",
    "explode = (0, 0.1)\n",
    "\n",
    "fig1, ax1 = plt.subplots()\n",
    "ax1.pie(res_ratios, explode=explode, labels=labels, autopct='%1.1f%%',\n",
    "        shadow=True, startangle=90)\n",
    "ax1.axis('equal')\n",
    "\n",
    "plt.show()"
   ]
  },
  {
   "cell_type": "markdown",
   "metadata": {},
   "source": [
    "### Full/Part-Time Status distribution"
   ]
  },
  {
   "cell_type": "code",
   "execution_count": 44,
   "metadata": {},
   "outputs": [],
   "source": [
    "sta_cat = [\"Full-Time\", \"Part-Time\"]\n",
    "count_full = 0\n",
    "count_part = 0\n",
    "sta_counts = []\n",
    "for x in dt.sub_sta:\n",
    "    if x == \"Full-Time\":\n",
    "        count_full = count_full + 1\n",
    "    elif x == \"Part-Time\":\n",
    "        count_part = count_part + 1\n",
    "sta_counts.append(count_full)\n",
    "sta_counts.append(count_part)"
   ]
  },
  {
   "cell_type": "code",
   "execution_count": 45,
   "metadata": {},
   "outputs": [
    {
     "name": "stdout",
     "output_type": "stream",
     "text": [
      "Out of the 50 undergrads selected at random: \n",
      "Full-Time count: 46\n",
      "Part-Time count: 4\n"
     ]
    }
   ],
   "source": [
    "print(\"Out of the 50 undergrads selected at random: \")\n",
    "print(\"Full-Time count: \" + str(count_full))\n",
    "print(\"Part-Time count: \" + str(count_part))"
   ]
  },
  {
   "cell_type": "code",
   "execution_count": 47,
   "metadata": {},
   "outputs": [
    {
     "data": {
      "image/png": "[encoded data removed]",
      "text/plain": [
       "<Figure size 640x480 with 1 Axes>"
      ]
     },
     "metadata": {},
     "output_type": "display_data"
    }
   ],
   "source": [
    "y_pos2 = np.arange(len(sta_cat))\n",
    "\n",
    "plt.bar(y_pos2, sta_counts, align='center', alpha=0.5)\n",
    "plt.xticks(y_pos2, sta_cat)\n",
    "plt.xlabel('Undergrad Full/Part-Time Status')\n",
    "plt.ylabel('Amount')\n",
    "\n",
    "plt.show()"
   ]
  },
  {
   "cell_type": "code",
   "execution_count": 48,
   "metadata": {},
   "outputs": [
    {
     "data": {
      "image/png": "[encoded data removed]",
      "text/plain": [
       "<Figure size 640x480 with 1 Axes>"
      ]
     },
     "metadata": {},
     "output_type": "display_data"
    }
   ],
   "source": [
    "full_ratio = count_full / 50\n",
    "part_ratio = count_part / 50\n",
    "\n",
    "sta_ratios = []\n",
    "sta_ratios.append(full_ratio)\n",
    "sta_ratios.append(part_ratio)\n",
    "\n",
    "labels = 'Full-Time', 'Part-Time'\n",
    "explode = (0, 0.1)\n",
    "\n",
    "fig1, ax1 = plt.subplots()\n",
    "ax1.pie(sta_ratios, explode=explode, labels=labels, autopct='%1.1f%%',\n",
    "        shadow=True, startangle=90)\n",
    "ax1.axis('equal')\n",
    "\n",
    "plt.show()"
   ]
  },
  {
   "cell_type": "markdown",
   "metadata": {},
   "source": [
    "### Conclusions"
   ]
  },
  {
   "cell_type": "markdown",
   "metadata": {},
   "source": [
    "According to the experiment 56% of the UNC Undergraduate students are female, while 44 % are male. In conclusions there are more undergraduate females than males. In addition, 86% of the undergrads are In_State students, while 14% are Out-State. Finally, 92% of the undergrads are enrolled as Full-Time students, while only 8% are Part-Time."
   ]
  },
  {
   "cell_type": "markdown",
   "metadata": {},
   "source": [
    "### Comparisons with ConnectCarolina Fall 2016 Census statistics "
   ]
  },
  {
   "cell_type": "markdown",
   "metadata": {},
   "source": [
    "| Variable/Category  | ConnectCarolina Fall 2016 Census | Experiment Results |\n",
    "| --- | --- | --- |\n",
    "| Gender: Female | 58.4% | 56% |\n",
    "| Gender: Male | 41.6% | 44% |\n",
    "| Residency: In-State | 81.3% | 86% |\n",
    "| Residency: Out-State | 18.7% | 14% |\n",
    "| Status: Full-Time | 96.5% | 92% |\n",
    "| Status: Part-Time | 3.5% | 8% |"
   ]
  },
  {
   "cell_type": "markdown",
   "metadata": {},
   "source": [
    "In general our experiments results where very accurate. If more undergrads subjects are added to our sample, our experiment results will approach the statistics from the ConnectCarolina Fall 2016 Census. This is also possible if out of the 100 subjects we where to take a bigger simple random sample."
   ]
  },
  {
   "cell_type": "markdown",
   "metadata": {},
   "source": [
    "For access to the ConnectCarolina Fall 2016 Census visit: https://oira.unc.edu/files/2018/06/Fact-Book-16-17_20180608.pdf"
   ]
  }
 ],
 "metadata": {
  "kernelspec": {
   "display_name": "Python 3",
   "language": "python",
   "name": "python3"
  },
  "language_info": {
   "codemirror_mode": {
    "name": "ipython",
    "version": 3
   },
   "file_extension": ".py",
   "mimetype": "text/x-python",
   "name": "python",
   "nbconvert_exporter": "python",
   "pygments_lexer": "ipython3",
   "version": "3.7.4"
  }
 },
 "nbformat": 4,
 "nbformat_minor": 2
}
